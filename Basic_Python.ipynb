{
 "cells": [
  {
   "cell_type": "markdown",
   "metadata": {},
   "source": [
    "# Python & NumPy Tutorial"
   ]
  },
  {
   "cell_type": "markdown",
   "metadata": {},
   "source": [
    "En este tutorial nos centraremos en entender algunas cosas básicas de Python 3 junto con algunas de las librerias (paquetes) más usadas hoy en día para Inteligencia Artificial (IA)\n"
   ]
  },
  {
   "cell_type": "markdown",
   "metadata": {},
   "source": [
    "Algo mas de introduccion aca supongo"
   ]
  },
  {
   "cell_type": "markdown",
   "metadata": {},
   "source": [
    "# Python 3"
   ]
  },
  {
   "cell_type": "markdown",
   "metadata": {},
   "source": [
    "De no estar familiarizado con Python 3 y sus diferencias con Python 2 aqui te mostramos algunas"
   ]
  },
  {
   "cell_type": "markdown",
   "metadata": {},
   "source": [
    "### Print "
   ]
  },
  {
   "cell_type": "code",
   "execution_count": 1,
   "metadata": {},
   "outputs": [
    {
     "name": "stdout",
     "output_type": "stream",
     "text": [
      "¡Hola Mundo!\n"
     ]
    }
   ],
   "source": [
    "print(\"¡Hola Mundo!\")"
   ]
  },
  {
   "cell_type": "code",
   "execution_count": 2,
   "metadata": {},
   "outputs": [
    {
     "ename": "SyntaxError",
     "evalue": "Missing parentheses in call to 'print'. Did you mean print(\"¡Hola Error!\")? (<ipython-input-2-af0fd51bc4e3>, line 1)",
     "output_type": "error",
     "traceback": [
      "\u001b[0;36m  File \u001b[0;32m\"<ipython-input-2-af0fd51bc4e3>\"\u001b[0;36m, line \u001b[0;32m1\u001b[0m\n\u001b[0;31m    print \"¡Hola Error!\"\u001b[0m\n\u001b[0m                       ^\u001b[0m\n\u001b[0;31mSyntaxError\u001b[0m\u001b[0;31m:\u001b[0m Missing parentheses in call to 'print'. Did you mean print(\"¡Hola Error!\")?\n"
     ]
    }
   ],
   "source": [
    "print \"¡Hola Error!\""
   ]
  },
  {
   "cell_type": "markdown",
   "metadata": {},
   "source": [
    "### No hay xrange"
   ]
  },
  {
   "cell_type": "markdown",
   "metadata": {},
   "source": [
    "Lo que se conocia como xrange() en Python 2 ahora se conoce como range() en Python 3. En Python 3 range() no crea una \n",
    "lista de elementos como lo sería en Python 2, sino que crea un elemento iterativo con mejor uso de memoria."
   ]
  },
  {
   "cell_type": "code",
   "execution_count": 3,
   "metadata": {},
   "outputs": [
    {
     "data": {
      "text/plain": [
       "range(0, 3)"
      ]
     },
     "execution_count": 3,
     "metadata": {},
     "output_type": "execute_result"
    }
   ],
   "source": [
    "range(3)"
   ]
  },
  {
   "cell_type": "code",
   "execution_count": 4,
   "metadata": {},
   "outputs": [
    {
     "name": "stdout",
     "output_type": "stream",
     "text": [
      "0\n",
      "1\n",
      "2\n"
     ]
    }
   ],
   "source": [
    "for i in range(3):\n",
    "    print(i)"
   ]
  },
  {
   "cell_type": "code",
   "execution_count": 5,
   "metadata": {},
   "outputs": [
    {
     "name": "stdout",
     "output_type": "stream",
     "text": [
      "[0, 1, 2]\n"
     ]
    }
   ],
   "source": [
    "print(list(range(3)))"
   ]
  },
  {
   "cell_type": "markdown",
   "metadata": {},
   "source": [
    "Hablemos ahora de algunas cosas basicas de Python:"
   ]
  },
  {
   "cell_type": "code",
   "execution_count": 6,
   "metadata": {
    "collapsed": true
   },
   "outputs": [],
   "source": [
    "x = 5\n",
    "y = 5"
   ]
  },
  {
   "cell_type": "markdown",
   "metadata": {},
   "source": [
    "Python tiene varias funciones ya integreadas que, a pesar de hacer mas facil varios calculos, pueden confundir si no se tiene claro que tipo de resultado devuelve cada una. Por ejemplo:"
   ]
  },
  {
   "cell_type": "code",
   "execution_count": 7,
   "metadata": {},
   "outputs": [
    {
     "data": {
      "text/plain": [
       "True"
      ]
     },
     "execution_count": 7,
     "metadata": {},
     "output_type": "execute_result"
    }
   ],
   "source": [
    "x == y"
   ]
  },
  {
   "cell_type": "markdown",
   "metadata": {},
   "source": [
    "\"is\" compara valor y tipo."
   ]
  },
  {
   "cell_type": "code",
   "execution_count": 8,
   "metadata": {},
   "outputs": [
    {
     "data": {
      "text/plain": [
       "True"
      ]
     },
     "execution_count": 8,
     "metadata": {},
     "output_type": "execute_result"
    }
   ],
   "source": [
    "x is y"
   ]
  },
  {
   "cell_type": "code",
   "execution_count": 9,
   "metadata": {},
   "outputs": [
    {
     "data": {
      "text/plain": [
       "3125"
      ]
     },
     "execution_count": 9,
     "metadata": {},
     "output_type": "execute_result"
    }
   ],
   "source": [
    "x**y"
   ]
  },
  {
   "cell_type": "markdown",
   "metadata": {},
   "source": [
    "Importante anotar: En Python, \"**\" es el operador para elevar x a la y. \"^\" es un operador binario XOR."
   ]
  },
  {
   "cell_type": "code",
   "execution_count": 10,
   "metadata": {},
   "outputs": [
    {
     "data": {
      "text/plain": [
       "1"
      ]
     },
     "execution_count": 10,
     "metadata": {},
     "output_type": "execute_result"
    }
   ],
   "source": [
    "x^(y-1)"
   ]
  },
  {
   "cell_type": "code",
   "execution_count": 11,
   "metadata": {},
   "outputs": [
    {
     "data": {
      "text/plain": [
       "2.5"
      ]
     },
     "execution_count": 11,
     "metadata": {},
     "output_type": "execute_result"
    }
   ],
   "source": [
    "5/2"
   ]
  },
  {
   "cell_type": "code",
   "execution_count": 12,
   "metadata": {},
   "outputs": [
    {
     "data": {
      "text/plain": [
       "2"
      ]
     },
     "execution_count": 12,
     "metadata": {},
     "output_type": "execute_result"
    }
   ],
   "source": [
    "5//2"
   ]
  },
  {
   "cell_type": "markdown",
   "metadata": {
    "collapsed": true
   },
   "source": [
    "Ahora miremos las estructuras basicas"
   ]
  },
  {
   "cell_type": "code",
   "execution_count": 13,
   "metadata": {},
   "outputs": [
    {
     "name": "stdout",
     "output_type": "stream",
     "text": [
      "son iguales\n"
     ]
    }
   ],
   "source": [
    "# Los condicionales\n",
    "if (x != y):\n",
    "    print(\"x no es igual a y\")\n",
    "else:\n",
    "    print(\"son iguales\")\n",
    "        "
   ]
  },
  {
   "cell_type": "code",
   "execution_count": 14,
   "metadata": {},
   "outputs": [
    {
     "name": "stdout",
     "output_type": "stream",
     "text": [
      "En Python no hay & sino and\n",
      "En Python no hay | sino or\n",
      "Que pasa aca?\n"
     ]
    }
   ],
   "source": [
    "# and , or and not \n",
    "elementA = 4\n",
    "elementB = 3\n",
    "if(elementA == 4 and elementB == 3):\n",
    "    print(\"En Python no hay & sino and\")\n",
    "if(elementA < 5 or elementB != 3):\n",
    "    print(\"En Python no hay | sino or\")\n",
    "if not(elementA != 4):\n",
    "    print(\"Que pasa aca?\")"
   ]
  },
  {
   "cell_type": "markdown",
   "metadata": {},
   "source": [
    "En Python podemos crear un script a \"fuerza bruta\", por medio de funciones (metodo mas usual) y con clases (personas que saben lo que estan haciendo...)"
   ]
  },
  {
   "cell_type": "code",
   "execution_count": 15,
   "metadata": {},
   "outputs": [
    {
     "name": "stdout",
     "output_type": "stream",
     "text": [
      "25\n"
     ]
    }
   ],
   "source": [
    "c = 5*5\n",
    "print(c)"
   ]
  },
  {
   "cell_type": "code",
   "execution_count": 16,
   "metadata": {},
   "outputs": [
    {
     "name": "stdout",
     "output_type": "stream",
     "text": [
      "25\n"
     ]
    }
   ],
   "source": [
    "def Multi(x,y):\n",
    "    c = x*y\n",
    "    return c\n",
    "res = Multi(x,y)\n",
    "print(res)"
   ]
  },
  {
   "cell_type": "code",
   "execution_count": 17,
   "metadata": {},
   "outputs": [
    {
     "name": "stdout",
     "output_type": "stream",
     "text": [
      "25\n"
     ]
    }
   ],
   "source": [
    "class MyClass:\n",
    "    \"\"\"A simple example class\"\"\"\n",
    "    def Multi(self,x,y):\n",
    "        c = x*y\n",
    "        return c\n",
    "A = MyClass()\n",
    "res = A.Multi(x,y)\n",
    "print(res)"
   ]
  },
  {
   "cell_type": "code",
   "execution_count": 18,
   "metadata": {},
   "outputs": [
    {
     "data": {
      "text/plain": [
       "False"
      ]
     },
     "execution_count": 18,
     "metadata": {},
     "output_type": "execute_result"
    }
   ],
   "source": [
    "pets=['dog','cat','ferret']\n",
    "'fox' in pets"
   ]
  },
  {
   "cell_type": "markdown",
   "metadata": {},
   "source": [
    "# NumPy"
   ]
  },
  {
   "cell_type": "markdown",
   "metadata": {},
   "source": [
    "NumPy es una libreria (paquete) fundamental para todo lo relaciondo con ciencias de la computación en Python. \n",
    "Es una libreria de Python que proporciona un objeto de matriz multidimensional y una variedad de rutinas para operaciones rápidas en matrices, incluyendo matemática, lógica, manipulación de formas, clasificación y selecció, entre muchas otras.\n",
    "- https://docs.scipy.org/doc/numpy/user/quickstart.html"
   ]
  },
  {
   "cell_type": "code",
   "execution_count": 19,
   "metadata": {
    "collapsed": true
   },
   "outputs": [],
   "source": [
    "import numpy as np"
   ]
  },
  {
   "cell_type": "markdown",
   "metadata": {},
   "source": [
    "Ahora la pregunta es... ¿Que tan poderoso es NumPy en realidad?, vamos a hacer unos ejemplos"
   ]
  },
  {
   "cell_type": "markdown",
   "metadata": {},
   "source": [
    "Supongamos que tenemos dos listas (a y b) con los primeros 100000 no negativos numeros enteros en cada una, \n",
    "y queremos crear una nueva lista que tenga cuya i-esima posición sea a[i] + 3*b[i]"
   ]
  },
  {
   "cell_type": "markdown",
   "metadata": {},
   "source": [
    "Sin NumPy:"
   ]
  },
  {
   "cell_type": "code",
   "execution_count": 20,
   "metadata": {},
   "outputs": [
    {
     "name": "stdout",
     "output_type": "stream",
     "text": [
      "CPU times: user 14.7 ms, sys: 5.93 ms, total: 20.6 ms\n",
      "Wall time: 19.9 ms\n"
     ]
    }
   ],
   "source": [
    "%%time\n",
    "a = [i for i in range(100000)]\n",
    "b = [i for i in range(100000)]"
   ]
  },
  {
   "cell_type": "code",
   "execution_count": 21,
   "metadata": {
    "scrolled": true
   },
   "outputs": [
    {
     "name": "stdout",
     "output_type": "stream",
     "text": [
      "CPU times: user 54.3 ms, sys: 6.68 ms, total: 61 ms\n",
      "Wall time: 64.1 ms\n"
     ]
    }
   ],
   "source": [
    "%%time\n",
    "c = []\n",
    "for i in range(len(a)):\n",
    "    c.append(a[i] + 2 * b[i])"
   ]
  },
  {
   "cell_type": "markdown",
   "metadata": {},
   "source": [
    "Con NumPy:"
   ]
  },
  {
   "cell_type": "code",
   "execution_count": 22,
   "metadata": {},
   "outputs": [
    {
     "name": "stdout",
     "output_type": "stream",
     "text": [
      "CPU times: user 4.53 ms, sys: 2.99 ms, total: 7.51 ms\n",
      "Wall time: 5.54 ms\n"
     ]
    }
   ],
   "source": [
    "%%time\n",
    "a = np.arange(100000)\n",
    "b = np.arange(100000)"
   ]
  },
  {
   "cell_type": "code",
   "execution_count": 23,
   "metadata": {},
   "outputs": [
    {
     "name": "stdout",
     "output_type": "stream",
     "text": [
      "CPU times: user 4.26 ms, sys: 3.12 ms, total: 7.38 ms\n",
      "Wall time: 6.07 ms\n"
     ]
    }
   ],
   "source": [
    "%%time\n",
    "c = a + 2 * b"
   ]
  },
  {
   "cell_type": "markdown",
   "metadata": {},
   "source": [
    "El resultado es mucho mas rapido con NumPy, y eso... aun asi se puede hacer con menos lineas de codigo"
   ]
  },
  {
   "cell_type": "markdown",
   "metadata": {},
   "source": [
    "Python a \"fuerza bruta\" suele ser muy lento dado las validaciones constantes que tiene que realizar para llevar a cabo muchas operaciones (Por ejemplo, interpretar codigo y soportar la abstracción que tiene Python).\n",
    "Para ponerlo mas en contexto, llevar a cabo una suma en un **PARA**, hace que se tenga que revisar el tipo de dato constantemente, lo cual tiene como consecuencia que se realicen muchas mas operaciones que una suma."
   ]
  },
  {
   "cell_type": "markdown",
   "metadata": {},
   "source": [
    "NumPy, usando codigos optimizados que estan pre-compilados en C es capaz de superar muchas de las dificultades antes mencionadas"
   ]
  },
  {
   "cell_type": "markdown",
   "metadata": {},
   "source": [
    "El proceso que usamos con NumPy se conoce como **vectorización**. La vectorización hace referencia a realizar operaciones en arreglos (arrays) en vez de elementos individuales (Ejemplo de esto es no usar **PARA**)"
   ]
  },
  {
   "cell_type": "markdown",
   "metadata": {},
   "source": [
    "Entonces, ¿Que ventajas tiene la vectorizacón?\n",
    "- Mas rapido\n",
    "- Menos lineas de codigo\n",
    "- Mas orientado a la notación matematica\n",
    "- Muchas mas\n",
    "\n",
    "La vectorización es una de las razones por las que NumPy es tan fuerte."
   ]
  },
  {
   "cell_type": "code",
   "execution_count": 24,
   "metadata": {},
   "outputs": [
    {
     "name": "stdout",
     "output_type": "stream",
     "text": [
      "CPU times: user 164 ms, sys: 25.3 ms, total: 189 ms\n",
      "Wall time: 196 ms\n"
     ]
    }
   ],
   "source": [
    "%%time\n",
    "results = []\n",
    "for i in range(1000):\n",
    "    for j in range(i):\n",
    "        results.append((i, j))\n",
    "        "
   ]
  },
  {
   "cell_type": "code",
   "execution_count": 25,
   "metadata": {},
   "outputs": [
    {
     "name": "stdout",
     "output_type": "stream",
     "text": [
      "CPU times: user 86.3 ms, sys: 28.6 ms, total: 115 ms\n",
      "Wall time: 113 ms\n"
     ]
    }
   ],
   "source": [
    "%%time\n",
    "results = []\n",
    "results = [(i, j) for i in range(1000) for j in range(i)]\n"
   ]
  },
  {
   "cell_type": "markdown",
   "metadata": {},
   "source": [
    "### n-dimensional arrays (ndarray)"
   ]
  },
  {
   "cell_type": "markdown",
   "metadata": {},
   "source": [
    "Los ndarrays son arrays de tipo similiar los cuales son la base de NumPy. A pesar de que ofrecen menos flexibilidad que las usuales listas de Python ofrecen mejores tiempos de ejecucion y mejor uso de memoria."
   ]
  },
  {
   "cell_type": "code",
   "execution_count": 26,
   "metadata": {},
   "outputs": [
    {
     "name": "stdout",
     "output_type": "stream",
     "text": [
      "<class 'numpy.ndarray'>\n",
      "(3,)\n",
      "1 3\n",
      "[ 1 10  3]\n",
      " \n",
      "(2, 3)\n",
      "1 4\n"
     ]
    }
   ],
   "source": [
    "a = np.array([1,2,3])    # Crea un array de dimensión 1\n",
    "print(type(a))           # Muestra en pantalla \"<class 'numpy.ndarray'>\"\n",
    "print(a.shape)           \n",
    "print(a[0], a[2])\n",
    "a[1] = 10\n",
    "print(a)\n",
    "print(\" \")\n",
    "\n",
    "b = np.array([[1, 2, 3],\n",
    "              [4, 5, 6]])    # Crea un array de dimensión 2\n",
    "print(b.shape)\n",
    "print(b[0,0], b[1,0])"
   ]
  },
  {
   "cell_type": "markdown",
   "metadata": {},
   "source": [
    "Otras formas de inicializar arrays con NumPy"
   ]
  },
  {
   "cell_type": "code",
   "execution_count": 27,
   "metadata": {},
   "outputs": [
    {
     "name": "stdout",
     "output_type": "stream",
     "text": [
      "[[0 0]\n",
      " [0 0]]\n",
      "[[5 5]\n",
      " [5 5]]\n",
      "[[1 0]\n",
      " [0 1]]\n",
      "[[1 1]\n",
      " [1 1]]\n"
     ]
    }
   ],
   "source": [
    "a = np.zeros((2,2) , dtype = int)\n",
    "print(a)\n",
    "b = np.full((2,2), 5, dtype = int)\n",
    "print(b)\n",
    "c = np.eye(2, dtype = int)\n",
    "print(c)\n",
    "d = np.ones((2,2), dtype = int)\n",
    "print(d)\n",
    "\n",
    "# Entre otras"
   ]
  },
  {
   "cell_type": "markdown",
   "metadata": {},
   "source": [
    "¿Y si queremos jugar con una matriz?"
   ]
  },
  {
   "cell_type": "code",
   "execution_count": 28,
   "metadata": {},
   "outputs": [
    {
     "name": "stdout",
     "output_type": "stream",
     "text": [
      "[0 1 2 3 4 5 6 7]\n",
      "(8,)\n",
      "reshaped : \n",
      " [[0 1 2 3]\n",
      " [4 5 6 7]]\n",
      "(2, 4)\n",
      "reshaped con -1: \n",
      " [[0 1]\n",
      " [2 3]\n",
      " [4 5]\n",
      " [6 7]]\n",
      "(4, 2)\n"
     ]
    }
   ],
   "source": [
    "array = np.arange(8)\n",
    "print(array)\n",
    "print(array.shape)\n",
    "\n",
    "array = array.reshape((2,4))\n",
    "print(\"reshaped : \\n\", array)\n",
    "print(array.shape)\n",
    "\n",
    "array = array.reshape((4,-1))\n",
    "print(\"reshaped con -1: \\n\", array)\n",
    "print(array.shape)"
   ]
  },
  {
   "cell_type": "markdown",
   "metadata": {},
   "source": [
    "### Operaciones con ndarrays"
   ]
  },
  {
   "cell_type": "markdown",
   "metadata": {},
   "source": [
    "Elemento a elemento:"
   ]
  },
  {
   "cell_type": "code",
   "execution_count": 29,
   "metadata": {},
   "outputs": [
    {
     "name": "stdout",
     "output_type": "stream",
     "text": [
      "[[ 6  8]\n",
      " [10 12]]\n",
      "[[ 6  8]\n",
      " [10 12]]\n",
      "[[-4 -4]\n",
      " [-4 -4]]\n",
      "[[-4 -4]\n",
      " [-4 -4]]\n",
      "[[ 5 12]\n",
      " [21 32]]\n",
      "[[ 5 12]\n",
      " [21 32]]\n",
      "[[1.         1.41421356]\n",
      " [1.73205081 2.        ]]\n"
     ]
    }
   ],
   "source": [
    "arrayA = np.array([[1, 2],\n",
    "                   [3, 4]], dtype = int)\n",
    "\n",
    "arrayB = np.array([[5, 6],\n",
    "                   [7, 8]], dtype = int)\n",
    "\n",
    "\n",
    "# Suma Elemento a Elemento\n",
    "print(arrayA + arrayB)\n",
    "print(np.add(arrayA, arrayB))\n",
    "\n",
    "# Resta Elemento a Elemento\n",
    "print(arrayA - arrayB)\n",
    "print(np.subtract(arrayA, arrayB))\n",
    "\n",
    "# Multiplicacion Elemento a Elemento\n",
    "print(arrayA * arrayB)\n",
    "print(np.multiply(arrayA, arrayB))\n",
    "\n",
    "# sqrt Elemento a Elemento\n",
    "print(np.sqrt(arrayA))"
   ]
  },
  {
   "cell_type": "markdown",
   "metadata": {},
   "source": [
    "**OJO**, en el bloque de arriba estabamos hablando de operaciones elemento a elemento , no multiplicacio de vectores o matrices. Si queremos hacer multiplicaciones vector / vector, vector / matriz , matriz / matriz, podemos usar la función **dot** la cual existe en NumPy"
   ]
  },
  {
   "cell_type": "code",
   "execution_count": 30,
   "metadata": {},
   "outputs": [
    {
     "name": "stdout",
     "output_type": "stream",
     "text": [
      "219\n",
      "219\n",
      "[39 58]\n",
      "[39 58]\n",
      "[29 67]\n",
      "[29 67]\n",
      "[[19 22]\n",
      " [43 50]]\n",
      "[[19 22]\n",
      " [43 50]]\n"
     ]
    }
   ],
   "source": [
    "arrayA = np.array([[1, 2],\n",
    "                   [3, 4]])\n",
    "\n",
    "arrayB = np.array([[5, 6],\n",
    "                   [7, 8]])\n",
    "\n",
    "v = np.array([9, 10])\n",
    "w = np.array([11, 12])\n",
    "\n",
    "# Producto interno entre vectores ( vector / vector)\n",
    "print(v.dot(w))\n",
    "print(np.dot(v, w))\n",
    "\n",
    "# Producto de vector / matriz\n",
    "print(v.dot(arrayA))\n",
    "print(np.dot(v,arrayA))\n",
    "\n",
    "# o viceversa\n",
    "print(arrayA.dot(v))\n",
    "print(np.dot(arrayA, v))\n",
    "\n",
    "# Producto de matriz / matriz\n",
    "print(arrayA.dot(arrayB))\n",
    "print(np.dot(arrayA, arrayB))"
   ]
  },
  {
   "cell_type": "markdown",
   "metadata": {},
   "source": [
    "Tambien podemos realizar operaciones con una matriz"
   ]
  },
  {
   "cell_type": "code",
   "execution_count": 31,
   "metadata": {},
   "outputs": [
    {
     "name": "stdout",
     "output_type": "stream",
     "text": [
      "36\n",
      "[ 6  8 10 12]\n",
      "[10 26]\n",
      "8\n"
     ]
    }
   ],
   "source": [
    "x = np.array([[1, 2, 3, 4], \n",
    "              [5, 6, 7, 8]])\n",
    "\n",
    "print(np.sum(x))                # Computa la suma de todos los elementos de la matriz \n",
    "print(np.sum(x, axis = 0))      # Computa la suma de cada columna de la matriz \n",
    "print(np.sum(x, axis = 1))      # Computa la suma de cada fila de la matriz \n",
    "\n",
    "print(np.max(x))                # Halla el maximo elemento de la matriz"
   ]
  },
  {
   "cell_type": "markdown",
   "metadata": {},
   "source": [
    "### Indexing"
   ]
  },
  {
   "cell_type": "code",
   "execution_count": 39,
   "metadata": {},
   "outputs": [
    {
     "name": "stdout",
     "output_type": "stream",
     "text": [
      "Original: \n",
      " [[1 2 3]\n",
      " [4 5 6]\n",
      " [7 8 9]]\n",
      "Posición [1][1] de x 5\n",
      "Posición [1, 1] de x 5\n",
      "Posiciones [:2,:2] de x \n",
      " [[1 2]\n",
      " [4 5]]\n",
      "Invertir una fila  de la matrix(x[0, ::-1]) :\n",
      "  [3 2 1]\n"
     ]
    }
   ],
   "source": [
    "x = np.array([[1, 2, 3], \n",
    "              [4, 5, 6],\n",
    "             [7, 8, 9]])\n",
    "\n",
    "print(\"Original: \\n\", x)\n",
    "\n",
    "# Podemos seleccioar el valor de cualquier posición del codigo\n",
    "\n",
    "print(\"Posición [1][1] de x\", x[1][1])\n",
    "print(\"Posición [1, 1] de x\", x[1, 1])\n",
    "\n",
    "# Podemos usar : para seleccionar una subparte de la matriz\n",
    "print(\"Posiciones [:2,:2] de x \\n\", x[:2,:2])\n",
    "\n",
    "# Cosas extras\n",
    "print(\"Invertir una fila  de la matrix(x[0, ::-1]) :\\n \", x[0, ::-1])"
   ]
  },
  {
   "cell_type": "markdown",
   "metadata": {},
   "source": [
    "A menudo puede que necesitemos modificar elementos de las filas o columnas de una matriz"
   ]
  },
  {
   "cell_type": "code",
   "execution_count": 44,
   "metadata": {},
   "outputs": [
    {
     "name": "stdout",
     "output_type": "stream",
     "text": [
      "La matrix es: \n",
      " [[1 2 3]\n",
      " [4 5 6]\n",
      " [7 8 9]]\n",
      "los valores son: \n",
      " [1 5 9]\n",
      "La nueva matrix es: \n",
      " [[ 2  2  3]\n",
      " [ 4  6  6]\n",
      " [ 7  8 10]]\n"
     ]
    }
   ],
   "source": [
    "arrayA = np.array([[1, 2, 3], \n",
    "                   [4, 5, 6],\n",
    "                   [7, 8, 9]])\n",
    "print(\"La matrix es: \\n\",arrayA)\n",
    "\n",
    "# Creemos un array de indices\n",
    "b = np.array([0,1,2])\n",
    "\n",
    "# Seleccionaremos de cada fila un elemento de acuerdo a los indices de b\n",
    "print(\"los valores son: \\n\", arrayA[np.arange(3), b])\n",
    "\n",
    "# Modifiquemos ahora esos valores\n",
    "arrayA[np.arange(3),b] +=1\n",
    "print(\"La nueva matrix es: \\n\", arrayA)"
   ]
  },
  {
   "cell_type": "markdown",
   "metadata": {},
   "source": [
    "Tambien podemos realizar comparaciones booleanas o comparaciones numericas"
   ]
  },
  {
   "cell_type": "code",
   "execution_count": 46,
   "metadata": {
    "scrolled": true
   },
   "outputs": [
    {
     "name": "stdout",
     "output_type": "stream",
     "text": [
      "[[ True  True  True]\n",
      " [ True False False]\n",
      " [False False False]]\n",
      "[[2 3 4]\n",
      " [5 5 6]\n",
      " [7 8 9]]\n"
     ]
    }
   ],
   "source": [
    "arrayA = np.array([[1, 2, 3], \n",
    "                   [4, 5, 6],\n",
    "                   [7, 8, 9]])\n",
    "temp = 5\n",
    "print(temp > arrayA)\n",
    "arrayA[temp > arrayA] += 1\n",
    "print(arrayA)\n"
   ]
  },
  {
   "cell_type": "markdown",
   "metadata": {},
   "source": [
    "# Pandas"
   ]
  },
  {
   "cell_type": "markdown",
   "metadata": {},
   "source": [
    "Pandas es una libreria de Python que facilita el uso de estructuras de datos y tiene varias herramientas para el manejo y visualización de estos.\n",
    "- https://pandas.pydata.org"
   ]
  },
  {
   "cell_type": "code",
   "execution_count": 53,
   "metadata": {
    "collapsed": true
   },
   "outputs": [],
   "source": [
    "import pandas as pd"
   ]
  },
  {
   "cell_type": "markdown",
   "metadata": {},
   "source": [
    "Supongamos que queremos combinar una data cualquiera con un label"
   ]
  },
  {
   "cell_type": "code",
   "execution_count": 68,
   "metadata": {
    "collapsed": true
   },
   "outputs": [],
   "source": [
    "names = ['Bob','Jessica','Mary','John','Mel']\n",
    "births = [1968, 1955, 1977, 1978, 1973]"
   ]
  },
  {
   "cell_type": "markdown",
   "metadata": {},
   "source": [
    "Para combinar estta data podemos usar la función **zip**"
   ]
  },
  {
   "cell_type": "code",
   "execution_count": 69,
   "metadata": {},
   "outputs": [
    {
     "name": "stdout",
     "output_type": "stream",
     "text": [
      "[('Bob', 1968), ('Jessica', 1955), ('Mary', 1977), ('John', 1978), ('Mel', 1973)]\n"
     ]
    }
   ],
   "source": [
    "DataSet = list(zip(names,births))\n",
    "print(DataSet)"
   ]
  },
  {
   "cell_type": "markdown",
   "metadata": {},
   "source": [
    "Ya tenemos nuestro dataset, ahora dejemos que pandas lo organice de una mejor forma. Para esto usaremos DataFrame object. Podemos pensar que este object tendra la data de nuetro dataset en algo similar a un tabla de sql o a una tabla en excel."
   ]
  },
  {
   "cell_type": "code",
   "execution_count": 70,
   "metadata": {},
   "outputs": [
    {
     "name": "stdout",
     "output_type": "stream",
     "text": [
      "     Names  Births\n",
      "0      Bob    1968\n",
      "1  Jessica    1955\n",
      "2     Mary    1977\n",
      "3     John    1978\n",
      "4      Mel    1973\n"
     ]
    }
   ],
   "source": [
    "df = pd.DataFrame(data = DataSet, columns=['Names', 'Births'])\n",
    "print(df)"
   ]
  },
  {
   "cell_type": "markdown",
   "metadata": {},
   "source": [
    "Ahora que tenemos creado nuestro dataset podemos guardarlo como un .csv (Casi un estandar)\n"
   ]
  },
  {
   "cell_type": "code",
   "execution_count": 73,
   "metadata": {
    "collapsed": true
   },
   "outputs": [],
   "source": [
    "df.to_csv('births1880_FF.csv',index=False,header=False)\n",
    "df.to_csv('births1880_TT.csv',index=True,header=True)"
   ]
  },
  {
   "cell_type": "markdown",
   "metadata": {},
   "source": [
    "Tambien podemos hacer lo mismo para excel, .txt, entre otros"
   ]
  },
  {
   "cell_type": "code",
   "execution_count": 83,
   "metadata": {},
   "outputs": [
    {
     "name": "stdout",
     "output_type": "stream",
     "text": [
      "     5.1  3.5  1.4  0.2     Iris-setosa\n",
      "0    4.9  3.0  1.4  0.2     Iris-setosa\n",
      "1    4.7  3.2  1.3  0.2     Iris-setosa\n",
      "2    4.6  3.1  1.5  0.2     Iris-setosa\n",
      "3    5.0  3.6  1.4  0.2     Iris-setosa\n",
      "4    5.4  3.9  1.7  0.4     Iris-setosa\n",
      "5    4.6  3.4  1.4  0.3     Iris-setosa\n",
      "6    5.0  3.4  1.5  0.2     Iris-setosa\n",
      "7    4.4  2.9  1.4  0.2     Iris-setosa\n",
      "8    4.9  3.1  1.5  0.1     Iris-setosa\n",
      "9    5.4  3.7  1.5  0.2     Iris-setosa\n",
      "10   4.8  3.4  1.6  0.2     Iris-setosa\n",
      "11   4.8  3.0  1.4  0.1     Iris-setosa\n",
      "12   4.3  3.0  1.1  0.1     Iris-setosa\n",
      "13   5.8  4.0  1.2  0.2     Iris-setosa\n",
      "14   5.7  4.4  1.5  0.4     Iris-setosa\n",
      "15   5.4  3.9  1.3  0.4     Iris-setosa\n",
      "16   5.1  3.5  1.4  0.3     Iris-setosa\n",
      "17   5.7  3.8  1.7  0.3     Iris-setosa\n",
      "18   5.1  3.8  1.5  0.3     Iris-setosa\n",
      "19   5.4  3.4  1.7  0.2     Iris-setosa\n",
      "20   5.1  3.7  1.5  0.4     Iris-setosa\n",
      "21   4.6  3.6  1.0  0.2     Iris-setosa\n",
      "22   5.1  3.3  1.7  0.5     Iris-setosa\n",
      "23   4.8  3.4  1.9  0.2     Iris-setosa\n",
      "24   5.0  3.0  1.6  0.2     Iris-setosa\n",
      "25   5.0  3.4  1.6  0.4     Iris-setosa\n",
      "26   5.2  3.5  1.5  0.2     Iris-setosa\n",
      "27   5.2  3.4  1.4  0.2     Iris-setosa\n",
      "28   4.7  3.2  1.6  0.2     Iris-setosa\n",
      "29   4.8  3.1  1.6  0.2     Iris-setosa\n",
      "..   ...  ...  ...  ...             ...\n",
      "119  6.9  3.2  5.7  2.3  Iris-virginica\n",
      "120  5.6  2.8  4.9  2.0  Iris-virginica\n",
      "121  7.7  2.8  6.7  2.0  Iris-virginica\n",
      "122  6.3  2.7  4.9  1.8  Iris-virginica\n",
      "123  6.7  3.3  5.7  2.1  Iris-virginica\n",
      "124  7.2  3.2  6.0  1.8  Iris-virginica\n",
      "125  6.2  2.8  4.8  1.8  Iris-virginica\n",
      "126  6.1  3.0  4.9  1.8  Iris-virginica\n",
      "127  6.4  2.8  5.6  2.1  Iris-virginica\n",
      "128  7.2  3.0  5.8  1.6  Iris-virginica\n",
      "129  7.4  2.8  6.1  1.9  Iris-virginica\n",
      "130  7.9  3.8  6.4  2.0  Iris-virginica\n",
      "131  6.4  2.8  5.6  2.2  Iris-virginica\n",
      "132  6.3  2.8  5.1  1.5  Iris-virginica\n",
      "133  6.1  2.6  5.6  1.4  Iris-virginica\n",
      "134  7.7  3.0  6.1  2.3  Iris-virginica\n",
      "135  6.3  3.4  5.6  2.4  Iris-virginica\n",
      "136  6.4  3.1  5.5  1.8  Iris-virginica\n",
      "137  6.0  3.0  4.8  1.8  Iris-virginica\n",
      "138  6.9  3.1  5.4  2.1  Iris-virginica\n",
      "139  6.7  3.1  5.6  2.4  Iris-virginica\n",
      "140  6.9  3.1  5.1  2.3  Iris-virginica\n",
      "141  5.8  2.7  5.1  1.9  Iris-virginica\n",
      "142  6.8  3.2  5.9  2.3  Iris-virginica\n",
      "143  6.7  3.3  5.7  2.5  Iris-virginica\n",
      "144  6.7  3.0  5.2  2.3  Iris-virginica\n",
      "145  6.3  2.5  5.0  1.9  Iris-virginica\n",
      "146  6.5  3.0  5.2  2.0  Iris-virginica\n",
      "147  6.2  3.4  5.4  2.3  Iris-virginica\n",
      "148  5.9  3.0  5.1  1.8  Iris-virginica\n",
      "\n",
      "[149 rows x 5 columns]\n"
     ]
    }
   ],
   "source": [
    "Data_Iris = pd.read_csv(\"iris_data.csv\")\n",
    "print(Data_Iris)"
   ]
  },
  {
   "cell_type": "markdown",
   "metadata": {},
   "source": [
    "# MatPlotLib"
   ]
  },
  {
   "cell_type": "markdown",
   "metadata": {},
   "source": [
    "MatPlotLib es una de las librerías más conocida y ampliamente usada para Python, cuenta con una variedad de opciones, flexibilidad y personalización para las gráficas y una activa comunidad.  \n",
    "- https://matplotlib.org"
   ]
  },
  {
   "cell_type": "markdown",
   "metadata": {},
   "source": [
    "Una de las opciones más usada, es la de dividir una gráfica, o subplots."
   ]
  },
  {
   "cell_type": "code",
   "execution_count": 50,
   "metadata": {
    "collapsed": true
   },
   "outputs": [],
   "source": [
    "import matplotlib.pyplot as plt"
   ]
  },
  {
   "cell_type": "code",
   "execution_count": 51,
   "metadata": {},
   "outputs": [
    {
     "data": {
      "text/plain": [
       "<Figure size 432x288 with 0 Axes>"
      ]
     },
     "metadata": {},
     "output_type": "display_data"
    },
    {
     "data": {
      "image/png": "[encoded data removed]",
      "text/plain": [
       "<Figure size 432x288 with 4 Axes>"
      ]
     },
     "metadata": {},
     "output_type": "display_data"
    }
   ],
   "source": [
    "fig = plt.figure()  # an empty figure with no axes\n",
    "fig.suptitle('No axes on this figure')  # Add a title so we know which it is\n",
    "\n",
    "fig, ax_lst = plt.subplots(2, 2)  # a figure with a 2x2 grid of Axes"
   ]
  },
  {
   "cell_type": "code",
   "execution_count": 58,
   "metadata": {},
   "outputs": [
    {
     "name": "stdout",
     "output_type": "stream",
     "text": [
      "Nuestra data es: \n",
      "           a         b         c         d         e\n",
      "0  0.113884  0.655278  0.757647  0.397291  0.054122\n",
      "1  0.188754  0.056082  0.168077  0.254659  0.047246\n",
      "2  0.238178  0.632919  0.247880  0.605922  0.743179\n",
      "3  0.266978  0.066158  0.281549  0.553171  0.572473\n",
      "Nuestra data como matriz: \n",
      " [[0.11388385 0.65527823 0.75764736 0.39729105 0.05412167]\n",
      " [0.18875356 0.05608197 0.16807664 0.25465949 0.04724596]\n",
      " [0.23817803 0.63291892 0.2478801  0.60592207 0.74317947]\n",
      " [0.26697783 0.06615773 0.28154868 0.55317096 0.57247252]]\n"
     ]
    }
   ],
   "source": [
    "a = pd.DataFrame(np.random.rand(4,5), columns = list('abcde'))\n",
    "a_asndarray = a.values\n",
    "print(\"Nuestra data es: \\n\",a)\n",
    "print(\"Nuestra data como matriz: \\n\",a_asndarray)"
   ]
  },
  {
   "cell_type": "code",
   "execution_count": 60,
   "metadata": {
    "collapsed": true
   },
   "outputs": [],
   "source": [
    "b = np.matrix([[1,2],[3,4]])\n",
    "b_asarray = np.asarray(b)"
   ]
  },
  {
   "cell_type": "code",
   "execution_count": 61,
   "metadata": {},
   "outputs": [
    {
     "name": "stdout",
     "output_type": "stream",
     "text": [
      "[0.         0.02020202 0.04040404 0.06060606 0.08080808 0.1010101\n",
      " 0.12121212 0.14141414 0.16161616 0.18181818 0.2020202  0.22222222\n",
      " 0.24242424 0.26262626 0.28282828 0.3030303  0.32323232 0.34343434\n",
      " 0.36363636 0.38383838 0.4040404  0.42424242 0.44444444 0.46464646\n",
      " 0.48484848 0.50505051 0.52525253 0.54545455 0.56565657 0.58585859\n",
      " 0.60606061 0.62626263 0.64646465 0.66666667 0.68686869 0.70707071\n",
      " 0.72727273 0.74747475 0.76767677 0.78787879 0.80808081 0.82828283\n",
      " 0.84848485 0.86868687 0.88888889 0.90909091 0.92929293 0.94949495\n",
      " 0.96969697 0.98989899 1.01010101 1.03030303 1.05050505 1.07070707\n",
      " 1.09090909 1.11111111 1.13131313 1.15151515 1.17171717 1.19191919\n",
      " 1.21212121 1.23232323 1.25252525 1.27272727 1.29292929 1.31313131\n",
      " 1.33333333 1.35353535 1.37373737 1.39393939 1.41414141 1.43434343\n",
      " 1.45454545 1.47474747 1.49494949 1.51515152 1.53535354 1.55555556\n",
      " 1.57575758 1.5959596  1.61616162 1.63636364 1.65656566 1.67676768\n",
      " 1.6969697  1.71717172 1.73737374 1.75757576 1.77777778 1.7979798\n",
      " 1.81818182 1.83838384 1.85858586 1.87878788 1.8989899  1.91919192\n",
      " 1.93939394 1.95959596 1.97979798 2.        ]\n"
     ]
    }
   ],
   "source": [
    "x = np.linspace(0, 2, 100)\n",
    "print(x)"
   ]
  },
  {
   "cell_type": "markdown",
   "metadata": {},
   "source": [
    "Unas gráficas ejemplo:"
   ]
  },
  {
   "cell_type": "code",
   "execution_count": 62,
   "metadata": {},
   "outputs": [
    {
     "data": {
      "image/png": "[encoded data removed]",
      "text/plain": [
       "<Figure size 432x288 with 1 Axes>"
      ]
     },
     "metadata": {},
     "output_type": "display_data"
    }
   ],
   "source": [
    "plt.plot(x, x, label='linear')\n",
    "plt.plot(x, x**2, label='quadratic')\n",
    "plt.plot(x, x**3, label='cubic')\n",
    "\n",
    "plt.xlabel('x label')\n",
    "plt.ylabel('y label')\n",
    "\n",
    "plt.title(\"Simple Plot\")\n",
    "\n",
    "plt.legend()\n",
    "\n",
    "plt.show()"
   ]
  },
  {
   "cell_type": "code",
   "execution_count": 63,
   "metadata": {},
   "outputs": [
    {
     "data": {
      "image/png": "[encoded data removed]",
      "text/plain": [
       "<Figure size 432x288 with 1 Axes>"
      ]
     },
     "metadata": {},
     "output_type": "display_data"
    }
   ],
   "source": [
    "x = np.arange(0, 10, 0.2)\n",
    "y = np.sin(x)\n",
    "fig, ax = plt.subplots()\n",
    "ax.plot(x, y)\n",
    "plt.show()"
   ]
  },
  {
   "cell_type": "code",
   "execution_count": 75,
   "metadata": {
    "collapsed": true
   },
   "outputs": [],
   "source": [
    "import matplotlib.image as mpimg"
   ]
  },
  {
   "cell_type": "code",
   "execution_count": 78,
   "metadata": {},
   "outputs": [
    {
     "name": "stdout",
     "output_type": "stream",
     "text": [
      "[[[209 226 254]\n",
      "  [209 226 254]\n",
      "  [209 226 254]\n",
      "  ...\n",
      "  [255 255 255]\n",
      "  [255 255 255]\n",
      "  [255 255 255]]\n",
      "\n",
      " [[209 226 254]\n",
      "  [209 226 254]\n",
      "  [209 226 254]\n",
      "  ...\n",
      "  [255 255 255]\n",
      "  [255 255 255]\n",
      "  [255 255 255]]\n",
      "\n",
      " [[209 226 254]\n",
      "  [209 226 254]\n",
      "  [209 226 254]\n",
      "  ...\n",
      "  [255 255 255]\n",
      "  [255 255 255]\n",
      "  [255 255 255]]\n",
      "\n",
      " ...\n",
      "\n",
      " [[ 74  14  26]\n",
      "  [ 74  14  26]\n",
      "  [ 74  14  26]\n",
      "  ...\n",
      "  [ 20  10  21]\n",
      "  [ 20  10  21]\n",
      "  [ 19   9  20]]\n",
      "\n",
      " [[ 75  15  27]\n",
      "  [ 75  15  27]\n",
      "  [ 75  15  27]\n",
      "  ...\n",
      "  [ 20  10  21]\n",
      "  [ 19   9  20]\n",
      "  [ 19   9  20]]\n",
      "\n",
      " [[ 76  16  28]\n",
      "  [ 76  16  28]\n",
      "  [ 75  15  27]\n",
      "  ...\n",
      "  [ 19   9  20]\n",
      "  [ 19   9  20]\n",
      "  [ 19   9  20]]]\n"
     ]
    }
   ],
   "source": [
    "img = mpimg.imread(\"Test.jpeg\")\n",
    "print(img)"
   ]
  },
  {
   "cell_type": "code",
   "execution_count": 79,
   "metadata": {},
   "outputs": [
    {
     "data": {
      "image/png": "[encoded data removed]",
      "text/plain": [
       "<Figure size 432x288 with 1 Axes>"
      ]
     },
     "metadata": {},
     "output_type": "display_data"
    }
   ],
   "source": [
    "imgplot = plt.imshow(img)"
   ]
  }
 ],
 "metadata": {
  "kernelspec": {
   "display_name": "Python 3",
   "language": "python",
   "name": "python3"
  },
  "language_info": {
   "codemirror_mode": {
    "name": "ipython",
    "version": 3
   },
   "file_extension": ".py",
   "mimetype": "text/x-python",
   "name": "python",
   "nbconvert_exporter": "python",
   "pygments_lexer": "ipython3",
   "version": "3.7.0"
  }
 },
 "nbformat": 4,
 "nbformat_minor": 2
}
