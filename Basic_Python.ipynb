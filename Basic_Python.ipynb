{
 "cells": [
  {
   "cell_type": "markdown",
   "metadata": {},
   "source": [
    "# Python & NumPy Tutorial"
   ]
  },
  {
   "cell_type": "markdown",
   "metadata": {},
   "source": [
    "En este tutorial nos centraremos en entender algunas cosas básicas de Python 3 junto con algunas de las librerias (paquetes) más usadas hoy en día para Inteligencia Artificial (IA)\n"
   ]
  },
  {
   "cell_type": "markdown",
   "metadata": {},
   "source": [
    "Algo mas de introduccion aca supongo"
   ]
  },
  {
   "cell_type": "markdown",
   "metadata": {},
   "source": [
    "# Python 3"
   ]
  },
  {
   "cell_type": "markdown",
   "metadata": {},
   "source": [
    "De no estar familiarizado con Python 3 y sus diferencias con Python 2 aqui te mostramos algunas"
   ]
  },
  {
   "cell_type": "markdown",
   "metadata": {},
   "source": [
    "### Print "
   ]
  },
  {
   "cell_type": "code",
   "execution_count": null,
   "metadata": {},
   "outputs": [],
   "source": [
    "print(\"¡Hola Mundo!\")"
   ]
  },
  {
   "cell_type": "code",
   "execution_count": null,
   "metadata": {},
   "outputs": [],
   "source": [
    "print \"¡Hola Error!\""
   ]
  },
  {
   "cell_type": "markdown",
   "metadata": {},
   "source": [
    "### No hay xrange"
   ]
  },
  {
   "cell_type": "markdown",
   "metadata": {},
   "source": [
    "Lo que se conocia como xrange() en Python 2 ahora se conoce como range() en Python 3. En Python 3 range() no crea una \n",
    "lista de elementos como lo sería en Python 2, sino que crea un elemento iterativo con mejor uso de memoria."
   ]
  },
  {
   "cell_type": "code",
   "execution_count": null,
   "metadata": {},
   "outputs": [],
   "source": [
    "range(3)"
   ]
  },
  {
   "cell_type": "code",
   "execution_count": null,
   "metadata": {},
   "outputs": [],
   "source": [
    "for i in range(3):\n",
    "    print(i)"
   ]
  },
  {
   "cell_type": "code",
   "execution_count": null,
   "metadata": {},
   "outputs": [],
   "source": [
    "print(list(range(3)))"
   ]
  },
  {
   "cell_type": "markdown",
   "metadata": {},
   "source": [
    "Hablemos ahora de algunas cosas basicas de Python:"
   ]
  },
  {
   "cell_type": "code",
   "execution_count": null,
   "metadata": {
    "collapsed": true
   },
   "outputs": [],
   "source": [
    "x = 5\n",
    "y = 5"
   ]
  },
  {
   "cell_type": "markdown",
   "metadata": {},
   "source": [
    "Python tiene varias funciones ya integreadas que, a pesar de hacer mas facil varios calculos, pueden confundir si no se tiene claro que tipo de resultado devuelve cada una. Por ejemplo:"
   ]
  },
  {
   "cell_type": "code",
   "execution_count": null,
   "metadata": {},
   "outputs": [],
   "source": [
    "x == y"
   ]
  },
  {
   "cell_type": "markdown",
   "metadata": {},
   "source": [
    "\"is\" compara valor y tipo."
   ]
  },
  {
   "cell_type": "code",
   "execution_count": null,
   "metadata": {},
   "outputs": [],
   "source": [
    "x is y"
   ]
  },
  {
   "cell_type": "code",
   "execution_count": null,
   "metadata": {},
   "outputs": [],
   "source": [
    "x**y"
   ]
  },
  {
   "cell_type": "markdown",
   "metadata": {},
   "source": [
    "Importante anotar: En Python, \"**\" es el operador para elevar x a la y. \"^\" es un operador binario XOR."
   ]
  },
  {
   "cell_type": "code",
   "execution_count": null,
   "metadata": {},
   "outputs": [],
   "source": [
    "x^(y-1)"
   ]
  },
  {
   "cell_type": "code",
   "execution_count": null,
   "metadata": {},
   "outputs": [],
   "source": [
    "5/2"
   ]
  },
  {
   "cell_type": "code",
   "execution_count": null,
   "metadata": {},
   "outputs": [],
   "source": [
    "5//2"
   ]
  },
  {
   "cell_type": "markdown",
   "metadata": {
    "collapsed": true
   },
   "source": [
    "Ahora miremos las estructuras basicas"
   ]
  },
  {
   "cell_type": "code",
   "execution_count": null,
   "metadata": {},
   "outputs": [],
   "source": [
    "# Los condicionales\n",
    "if (x != y):\n",
    "    print(\"x no es igual a y\")\n",
    "else:\n",
    "    print(\"son iguales\")\n",
    "        "
   ]
  },
  {
   "cell_type": "code",
   "execution_count": null,
   "metadata": {},
   "outputs": [],
   "source": [
    "# and , or and not \n",
    "elementA = 4\n",
    "elementB = 3\n",
    "if(elementA == 4 and elementB == 3):\n",
    "    print(\"En Python no hay & sino and\")\n",
    "if(elementA < 5 or elementB != 3):\n",
    "    print(\"En Python no hay | sino or\")\n",
    "if not(elementA != 4):\n",
    "    print(\"Que pasa aca?\")"
   ]
  },
  {
   "cell_type": "markdown",
   "metadata": {},
   "source": [
    "En Python podemos crear un script a \"fuerza bruta\", por medio de funciones (metodo mas usual) y con clases (personas que saben lo que estan haciendo...)"
   ]
  },
  {
   "cell_type": "code",
   "execution_count": null,
   "metadata": {},
   "outputs": [],
   "source": [
    "c = 5*5\n",
    "print(c)"
   ]
  },
  {
   "cell_type": "code",
   "execution_count": null,
   "metadata": {},
   "outputs": [],
   "source": [
    "def Multi(x,y):\n",
    "    c = x*y\n",
    "    return c\n",
    "res = Multi(x,y)\n",
    "print(res)"
   ]
  },
  {
   "cell_type": "code",
   "execution_count": null,
   "metadata": {},
   "outputs": [],
   "source": [
    "class MyClass:\n",
    "    \"\"\"A simple example class\"\"\"\n",
    "    def Multi(self,x,y):\n",
    "        c = x*y\n",
    "        return c\n",
    "A = MyClass()\n",
    "res = A.Multi(x,y)\n",
    "print(res)"
   ]
  },
  {
   "cell_type": "code",
   "execution_count": null,
   "metadata": {},
   "outputs": [],
   "source": [
    "pets=['dog','cat','ferret']\n",
    "'fox' in pets"
   ]
  },
  {
   "cell_type": "markdown",
   "metadata": {},
   "source": [
    "# NumPy"
   ]
  },
  {
   "cell_type": "markdown",
   "metadata": {},
   "source": [
    "NumPy es una libreria (paquete) fundamental para todo lo relaciondo con ciencias de la computación en Python. \n",
    "Es una libreria de Python que proporciona un objeto de matriz multidimensional y una variedad de rutinas para operaciones rápidas en matrices, incluyendo matemática, lógica, manipulación de formas, clasificación y selecció, entre muchas otras.\n",
    "- https://docs.scipy.org/doc/numpy/user/quickstart.html"
   ]
  },
  {
   "cell_type": "code",
   "execution_count": null,
   "metadata": {
    "collapsed": true
   },
   "outputs": [],
   "source": [
    "import numpy as np"
   ]
  },
  {
   "cell_type": "markdown",
   "metadata": {},
   "source": [
    "Ahora la pregunta es... ¿Que tan poderoso es NumPy en realidad?, vamos a hacer unos ejemplos"
   ]
  },
  {
   "cell_type": "markdown",
   "metadata": {},
   "source": [
    "Supongamos que tenemos dos listas (a y b) con los primeros 100000 no negativos numeros enteros en cada una, \n",
    "y queremos crear una nueva lista que tenga cuya i-esima posición sea a[i] + 3*b[i]"
   ]
  },
  {
   "cell_type": "markdown",
   "metadata": {},
   "source": [
    "Sin NumPy:"
   ]
  },
  {
   "cell_type": "code",
   "execution_count": null,
   "metadata": {},
   "outputs": [],
   "source": [
    "%%time\n",
    "a = [i for i in range(100000)]\n",
    "b = [i for i in range(100000)]"
   ]
  },
  {
   "cell_type": "code",
   "execution_count": null,
   "metadata": {
    "scrolled": true
   },
   "outputs": [],
   "source": [
    "%%time\n",
    "c = []\n",
    "for i in range(len(a)):\n",
    "    c.append(a[i] + 2 * b[i])"
   ]
  },
  {
   "cell_type": "markdown",
   "metadata": {},
   "source": [
    "Con NumPy:"
   ]
  },
  {
   "cell_type": "code",
   "execution_count": null,
   "metadata": {},
   "outputs": [],
   "source": [
    "%%time\n",
    "a = np.arange(100000)\n",
    "b = np.arange(100000)"
   ]
  },
  {
   "cell_type": "code",
   "execution_count": null,
   "metadata": {},
   "outputs": [],
   "source": [
    "%%time\n",
    "c = a + 2 * b"
   ]
  },
  {
   "cell_type": "markdown",
   "metadata": {},
   "source": [
    "El resultado es mucho mas rapido con NumPy, y eso... aun asi se puede hacer con menos lineas de codigo"
   ]
  },
  {
   "cell_type": "markdown",
   "metadata": {},
   "source": [
    "Python a \"fuerza bruta\" suele ser muy lento dado las validaciones constantes que tiene que realizar para llevar a cabo muchas operaciones (Por ejemplo, interpretar codigo y soportar la abstracción que tiene Python).\n",
    "Para ponerlo mas en contexto, llevar a cabo una suma en un **PARA**, hace que se tenga que revisar el tipo de dato constantemente, lo cual tiene como consecuencia que se realicen muchas mas operaciones que una suma."
   ]
  },
  {
   "cell_type": "markdown",
   "metadata": {},
   "source": [
    "NumPy, usando codigos optimizados que estan pre-compilados en C es capaz de superar muchas de las dificultades antes mencionadas"
   ]
  },
  {
   "cell_type": "markdown",
   "metadata": {},
   "source": [
    "El proceso que usamos con NumPy se conoce como **vectorización**. La vectorización hace referencia a realizar operaciones en arreglos (arrays) en vez de elementos individuales (Ejemplo de esto es no usar **PARA**)"
   ]
  },
  {
   "cell_type": "markdown",
   "metadata": {},
   "source": [
    "Entonces, ¿Que ventajas tiene la vectorizacón?\n",
    "- Mas rapido\n",
    "- Menos lineas de codigo\n",
    "- Mas orientado a la notación matematica\n",
    "- Muchas mas\n",
    "\n",
    "La vectorización es una de las razones por las que NumPy es tan fuerte."
   ]
  },
  {
   "cell_type": "code",
   "execution_count": null,
   "metadata": {},
   "outputs": [],
   "source": [
    "%%time\n",
    "results = []\n",
    "for i in range(1000):\n",
    "    for j in range(i):\n",
    "        results.append((i, j))\n",
    "        "
   ]
  },
  {
   "cell_type": "code",
   "execution_count": null,
   "metadata": {},
   "outputs": [],
   "source": [
    "%%time\n",
    "results = []\n",
    "results = [(i, j) for i in range(1000) for j in range(i)]\n"
   ]
  },
  {
   "cell_type": "markdown",
   "metadata": {},
   "source": [
    "### n-dimensional arrays (ndarray)"
   ]
  },
  {
   "cell_type": "markdown",
   "metadata": {},
   "source": [
    "Los ndarrays son arrays de tipo similiar los cuales son la base de NumPy. A pesar de que ofrecen menos flexibilidad que las usuales listas de Python ofrecen mejores tiempos de ejecucion y mejor uso de memoria."
   ]
  },
  {
   "cell_type": "code",
   "execution_count": null,
   "metadata": {},
   "outputs": [],
   "source": [
    "a = np.array([1,2,3])    # Crea un array de dimensión 1\n",
    "print(type(a))           # Muestra en pantalla \"<class 'numpy.ndarray'>\"\n",
    "print(a.shape)           \n",
    "print(a[0], a[2])\n",
    "a[1] = 10\n",
    "print(a)\n",
    "print(\" \")\n",
    "\n",
    "b = np.array([[1, 2, 3],\n",
    "              [4, 5, 6]])    # Crea un array de dimensión 2\n",
    "print(b.shape)\n",
    "print(b[0,0], b[1,0])"
   ]
  },
  {
   "cell_type": "markdown",
   "metadata": {},
   "source": [
    "Otras formas de inicializar arrays con NumPy"
   ]
  },
  {
   "cell_type": "code",
   "execution_count": null,
   "metadata": {},
   "outputs": [],
   "source": [
    "a = np.zeros((2,2) , dtype = int)\n",
    "print(a)\n",
    "b = np.full((2,2), 5, dtype = int)\n",
    "print(b)\n",
    "c = np.eye(2, dtype = int)\n",
    "print(c)\n",
    "d = np.ones((2,2), dtype = int)\n",
    "print(d)\n",
    "\n",
    "# Entre otras"
   ]
  },
  {
   "cell_type": "markdown",
   "metadata": {},
   "source": [
    "¿Y si queremos jugar con una matriz?"
   ]
  },
  {
   "cell_type": "code",
   "execution_count": null,
   "metadata": {},
   "outputs": [],
   "source": [
    "array = np.arange(8)\n",
    "print(array)\n",
    "print(array.shape)\n",
    "\n",
    "array = array.reshape((2,4))\n",
    "print(\"reshaped : \\n\", array)\n",
    "print(array.shape)\n",
    "\n",
    "array = array.reshape((4,-1))\n",
    "print(\"reshaped con -1: \\n\", array)\n",
    "print(array.shape)"
   ]
  },
  {
   "cell_type": "markdown",
   "metadata": {},
   "source": [
    "### Operaciones con ndarrays"
   ]
  },
  {
   "cell_type": "markdown",
   "metadata": {},
   "source": [
    "Elemento a elemento:"
   ]
  },
  {
   "cell_type": "code",
   "execution_count": null,
   "metadata": {},
   "outputs": [],
   "source": [
    "arrayA = np.array([[1, 2],\n",
    "                   [3, 4]], dtype = int)\n",
    "\n",
    "arrayB = np.array([[5, 6],\n",
    "                   [7, 8]], dtype = int)\n",
    "\n",
    "\n",
    "# Suma Elemento a Elemento\n",
    "print(arrayA + arrayB)\n",
    "print(np.add(arrayA, arrayB))\n",
    "\n",
    "# Resta Elemento a Elemento\n",
    "print(arrayA - arrayB)\n",
    "print(np.subtract(arrayA, arrayB))\n",
    "\n",
    "# Multiplicacion Elemento a Elemento\n",
    "print(arrayA * arrayB)\n",
    "print(np.multiply(arrayA, arrayB))\n",
    "\n",
    "# sqrt Elemento a Elemento\n",
    "print(np.sqrt(arrayA))"
   ]
  },
  {
   "cell_type": "markdown",
   "metadata": {},
   "source": [
    "**OJO**, en el bloque de arriba estabamos hablando de operaciones elemento a elemento , no multiplicacio de vectores o matrices. Si queremos hacer multiplicaciones vector / vector, vector / matriz , matriz / matriz, podemos usar la función **dot** la cual existe en NumPy"
   ]
  },
  {
   "cell_type": "code",
   "execution_count": null,
   "metadata": {},
   "outputs": [],
   "source": [
    "arrayA = np.array([[1, 2],\n",
    "                   [3, 4]])\n",
    "\n",
    "arrayB = np.array([[5, 6],\n",
    "                   [7, 8]])\n",
    "\n",
    "v = np.array([9, 10])\n",
    "w = np.array([11, 12])\n",
    "\n",
    "# Producto interno entre vectores ( vector / vector)\n",
    "print(v.dot(w))\n",
    "print(np.dot(v, w))\n",
    "\n",
    "# Producto de vector / matriz\n",
    "print(v.dot(arrayA))\n",
    "print(np.dot(v,arrayA))\n",
    "\n",
    "# o viceversa\n",
    "print(arrayA.dot(v))\n",
    "print(np.dot(arrayA, v))\n",
    "\n",
    "# Producto de matriz / matriz\n",
    "print(arrayA.dot(arrayB))\n",
    "print(np.dot(arrayA, arrayB))"
   ]
  },
  {
   "cell_type": "markdown",
   "metadata": {},
   "source": [
    "Tambien podemos realizar operaciones con una matriz"
   ]
  },
  {
   "cell_type": "code",
   "execution_count": null,
   "metadata": {},
   "outputs": [],
   "source": [
    "x = np.array([[1, 2, 3, 4], \n",
    "              [5, 6, 7, 8]])\n",
    "\n",
    "print(np.sum(x))                # Computa la suma de todos los elementos de la matriz \n",
    "print(np.sum(x, axis = 0))      # Computa la suma de cada columna de la matriz \n",
    "print(np.sum(x, axis = 1))      # Computa la suma de cada fila de la matriz \n",
    "\n",
    "print(np.max(x))                # Halla el maximo elemento de la matriz"
   ]
  },
  {
   "cell_type": "markdown",
   "metadata": {},
   "source": [
    "### Indexing"
   ]
  },
  {
   "cell_type": "code",
   "execution_count": null,
   "metadata": {
    "collapsed": true
   },
   "outputs": [],
   "source": []
  },
  {
   "cell_type": "code",
   "execution_count": null,
   "metadata": {
    "collapsed": true
   },
   "outputs": [],
   "source": []
  },
  {
   "cell_type": "code",
   "execution_count": null,
   "metadata": {
    "collapsed": true
   },
   "outputs": [],
   "source": []
  },
  {
   "cell_type": "code",
   "execution_count": null,
   "metadata": {
    "collapsed": true
   },
   "outputs": [],
   "source": []
  },
  {
   "cell_type": "code",
   "execution_count": null,
   "metadata": {
    "collapsed": true
   },
   "outputs": [],
   "source": []
  },
  {
   "cell_type": "code",
   "execution_count": null,
   "metadata": {
    "collapsed": true
   },
   "outputs": [],
   "source": []
  },
  {
   "cell_type": "code",
   "execution_count": null,
   "metadata": {
    "collapsed": true
   },
   "outputs": [],
   "source": []
  },
  {
   "cell_type": "code",
   "execution_count": null,
   "metadata": {
    "collapsed": true
   },
   "outputs": [],
   "source": []
  }
 ],
 "metadata": {
  "kernelspec": {
   "display_name": "Python 3",
   "language": "python",
   "name": "python3"
  },
  "language_info": {
   "codemirror_mode": {
    "name": "ipython",
    "version": 3
   },
   "file_extension": ".py",
   "mimetype": "text/x-python",
   "name": "python",
   "nbconvert_exporter": "python",
   "pygments_lexer": "ipython3",
   "version": "3.7.0"
  }
 },
 "nbformat": 4,
 "nbformat_minor": 2
}
